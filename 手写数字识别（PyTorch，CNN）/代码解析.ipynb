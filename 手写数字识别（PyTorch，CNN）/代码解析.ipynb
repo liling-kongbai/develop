{
 "cells": [
  {
   "cell_type": "markdown",
   "metadata": {},
   "source": [
    "### 导入相关库并设置所需全局变量\n",
    "\n",
    "1. 导入运行本项目所需的库。\n",
    "\n",
    "2. 设置device全局变量，指定模型和张量的计算设备，判断设备是否支持CUDA并使用GPU进行加速计算，否者使用CPU。"
   ]
  },
  {
   "cell_type": "code",
   "execution_count": 1,
   "metadata": {},
   "outputs": [
    {
     "name": "stdout",
     "output_type": "stream",
     "text": [
      "cuda\n"
     ]
    }
   ],
   "source": [
    "import torch\n",
    "from torchvision import transforms\n",
    "from torchvision import datasets\n",
    "from matplotlib import pyplot as plt\n",
    "from torch.utils.data import DataLoader\n",
    "from torch import nn\n",
    "from torch.nn import functional as F\n",
    "\n",
    "device = torch.device('cuda' if torch.cuda.is_available() else 'cpu')\n",
    "print(device)"
   ]
  },
  {
   "cell_type": "code",
   "execution_count": 2,
   "metadata": {},
   "outputs": [],
   "source": [
    "# 相关函数/方法\n",
    "\n",
    "# torch.device('cpu/cuda/cuda:device_index')指定模型和张量的计算设备\n",
    "# 注意模型和张量的设备一致性，在进行训练或推理时，需确保模型和张量在同一个设备上\n",
    "\n",
    "# torch.cuda.is_available()检查当前系统是否支持CUDA，是否有可用GPU设备，判断当前环境是否可使用GPU进行加速计算"
   ]
  },
  {
   "cell_type": "markdown",
   "metadata": {},
   "source": [
    "### 图像变换组合\n",
    "\n",
    "1. 将多个图像变换函数/方法组合在一起。\n",
    "\n",
    "2. 将图像数据转为张量。\n",
    "\n",
    "3. 对图像张量进行标准化。\n",
    "\n",
    "注意：\n",
    "\n",
    "- 在手写数字识别项目中，经常使用标准化参数transforms.Normalize((0.1307,), (0.3081,))，对应MNIST数据集的全局均值和标准差，通过对MNIST数据集进行统计计算得到。"
   ]
  },
  {
   "cell_type": "code",
   "execution_count": 3,
   "metadata": {},
   "outputs": [
    {
     "name": "stdout",
     "output_type": "stream",
     "text": [
      "Compose(\n",
      "    ToTensor()\n",
      "    Normalize(mean=(0.1307,), std=(0.3081,))\n",
      ")\n"
     ]
    }
   ],
   "source": [
    "transforms = transforms.Compose([\n",
    "    transforms.ToTensor(),\n",
    "    transforms.Normalize((0.1307,), (0.3081,))\n",
    "])\n",
    "print(transforms)"
   ]
  },
  {
   "cell_type": "code",
   "execution_count": 4,
   "metadata": {},
   "outputs": [],
   "source": [
    "# 相关函数/方法\n",
    "\n",
    "# Compose()组合多个图像变换操作，允许将多个变换操作串联起来，形成一个完整的预处理流程，简化数据预处理的步骤\n",
    "# transforms(list of Transform objects)一个包含多个变换操作的列表，每个变换操作都是一个Transform对象\n",
    "# 变换操作会按照列表中出现的顺序依次执行\n",
    "\n",
    "# ToTensor()将PIL图像或NumPy数组转为PyTorch张量的无参变换操作，转换后的张量是浮点张量，范围在[0.0, 1.0]\n",
    "# 对于PIL图像，图像通道顺序从(H, W, C)转为(C, H, W)，H高度，W宽度，C通道数\n",
    "# 对于NumPy数组，数组形状从(H, W, C)或(H, W)转为(C, H, W)或(1, H, W)灰度图\n",
    "# 将图像像素值从[0, 255]归一化到[0.0, 1.0]，通过将每个像素值除以255.0实现\n",
    "\n",
    "# Normalize()对图像张量进行归一化处理的变换操作，确保输入数据的分布符合模型训练时的期望分布\n",
    "# mean(sequence)序列，包含每个通道的均值，对于RGB图像，通常是一个长度为3的列表或元组，分别对应R、G、B通道的均值\n",
    "# std(sequence)序列，包含每个通道的标准差，对于RGB图像，通常是一个长度为3的列表或元组，分别对应R、G、B通道的标准差"
   ]
  },
  {
   "cell_type": "markdown",
   "metadata": {},
   "source": [
    "### 下载和加载数据集并进行图像变换\n",
    "\n",
    "注意：\n",
    "\n",
    "- MNIST数据集，训练集包含60000张图像及其对应标签，测试集包含10000张图像及其对应标签，每个图像对应一个0-9的数字标签，每张图像为28×28像素的灰度图像，像素值范围为0-255。"
   ]
  },
  {
   "cell_type": "code",
   "execution_count": 5,
   "metadata": {},
   "outputs": [
    {
     "name": "stdout",
     "output_type": "stream",
     "text": [
      "60000\n",
      "10000\n",
      "torch.Size([1, 28, 28])\n",
      "5\n",
      "torch.Size([1, 28, 28])\n",
      "7\n"
     ]
    }
   ],
   "source": [
    "train_dataset = datasets.MNIST(root='C:\\\\Users\\\\kongbai\\\\study\\\\dataset', train=True, transform=transforms, download=True)\n",
    "test_dataset = datasets.MNIST(root='C:\\\\Users\\\\kongbai\\\\study\\\\dataset', train=False, transform=transforms, download=True)\n",
    "print(len(train_dataset))\n",
    "print(len(test_dataset))\n",
    "feature, label = train_dataset[0]\n",
    "print(feature.size())\n",
    "print(label)\n",
    "feature, label = test_dataset[0]\n",
    "print(feature.size())\n",
    "print(label)"
   ]
  },
  {
   "cell_type": "code",
   "execution_count": 6,
   "metadata": {},
   "outputs": [],
   "source": [
    "# 相关函数/方法\n",
    "\n",
    "# MNIST()加载MNIST数据集\n",
    "# root(str or pathlib.Path)数据集根目录，数据集将被下载到此目录下的MNIST/raw子目录中\n",
    "# train(bool, optional)为True，则加载训练集数据，为False，则加载测试集数据，默认为True\n",
    "# transform(callable, optional)一个函数或转换，对输入图像进行预处理\n",
    "# target_transform(callable, optional)一个函数或转换，对目标标签进行预处理\n",
    "# download(bool, optional)为True，则从互联网下载数据集并将其保存到root目录中，如果已经下载，则不会再次下载，默认为False"
   ]
  },
  {
   "cell_type": "markdown",
   "metadata": {},
   "source": [
    "### 展示数据\n",
    "\n",
    "注意：\n",
    "\n",
    "- 对于datasets.MNIST对象，data属性包含所有图像数据的张量，targets属性包含所有图像数据的标签。\n",
    "\n",
    "- data的形状通常为(num_samples, height, width)，num_samples数据集样本数量，height，width图像高度和宽度。"
   ]
  },
  {
   "cell_type": "code",
   "execution_count": 7,
   "metadata": {},
   "outputs": [
    {
     "data": {
      "image/png": "[encoded data removed]",
      "text/plain": [
       "<Figure size 640x480 with 10 Axes>"
      ]
     },
     "metadata": {},
     "output_type": "display_data"
    }
   ],
   "source": [
    "fig = plt.figure()\n",
    "for i in range(10):\n",
    "    plt.subplot(2, 5, i + 1)\n",
    "    plt.imshow(train_dataset.data[i])\n",
    "    plt.title(train_dataset.targets[i])\n",
    "plt.show()"
   ]
  },
  {
   "cell_type": "markdown",
   "metadata": {},
   "source": [
    "### 创建数据迭代器\n",
    "\n",
    "1. 指定批量大小和是否在每个epoch开始时打乱数据集，创建数据迭代器，便于模型在训练和预测过程中循环迭代。"
   ]
  },
  {
   "cell_type": "code",
   "execution_count": 8,
   "metadata": {},
   "outputs": [
    {
     "name": "stdout",
     "output_type": "stream",
     "text": [
      "938\n",
      "157\n"
     ]
    }
   ],
   "source": [
    "batch_size = 64\n",
    "shuffle = True\n",
    "train_loader = DataLoader(train_dataset, batch_size=batch_size, shuffle=shuffle)\n",
    "test_loader = DataLoader(test_dataset, batch_size=batch_size, shuffle=shuffle)\n",
    "print(len(train_loader))\n",
    "print(len(test_loader))"
   ]
  },
  {
   "cell_type": "markdown",
   "metadata": {},
   "source": [
    "### 定义模型\n",
    "\n",
    "模型基于CNN卷积层和全连接神经网络层。\n",
    "\n",
    "1. Conv2d()卷积层，实现二维卷积操作。\n",
    "\n",
    "2. MaxPool2d(kernel_size=2)汇聚层，实现二维最大汇聚。\n",
    "\n",
    "3. Linear()全连接神经网络层，将输入数据映射到新的特征空间，从而提取更高层次的特征，增加模型复杂度，提高模型表达能力，执行分类任务。\n",
    "\n",
    "4. ReLU激活函数，引入非线性因素，增强模型表达能力。\n",
    "\n",
    "5. x = x.view(x.size(0), -1)将数据从高维转为一维，便于全连接神经网络层计算。\n",
    "\n",
    "注意：\n",
    "\n",
    "- 通过多层全连接层和激活函数，以实现非线性变换，逐步提取高层次特征并最终输出预测结果。\n",
    "\n",
    "- 作者认为ReLU激活函数非常适合处理灰度图像。\n",
    "\n",
    "- 模型最后的输出并没有使用类似Softmax激活函数功能的变换，因为CrossEntropyLoss()损失函数可自动实现，不必重复实现，但在预测阶段要对模型输出进行处理。\n",
    "\n",
    "- 没有手动初始化模型中网络的任何参数，均使用默认的自动初始化。\n",
    "\n",
    "- 模型还可改造，还可添加其他正则化层，批量规范化层，其他需要的网络层等。"
   ]
  },
  {
   "cell_type": "code",
   "execution_count": 9,
   "metadata": {},
   "outputs": [],
   "source": [
    "class Net(nn.Module):\n",
    "    def __init__(self):\n",
    "        super().__init__()\n",
    "        self.conv1 = nn.Conv2d(1, 10, kernel_size=5)\n",
    "        self.conv2 = nn.Conv2d(10, 20, kernel_size=5)\n",
    "        self.max_pool = nn.MaxPool2d(kernel_size=2)\n",
    "        self.fc1 = nn.Linear(in_features=320, out_features=50)\n",
    "        self.fc2 = nn.Linear(in_features=50, out_features=10)\n",
    "\n",
    "    def forward(self, x):\n",
    "        x = self.max_pool(F.relu(self.conv1(x)))\n",
    "        x = self.max_pool(F.relu(self.conv2(x)))\n",
    "        x = x.view(x.size(0), -1)\n",
    "        x = self.fc2(self.fc1(x))\n",
    "        return x"
   ]
  },
  {
   "cell_type": "markdown",
   "metadata": {},
   "source": [
    "### 初始化模型\n",
    "\n",
    "1. 根据设备硬件情况，可将模型创建在指定设备上运行。"
   ]
  },
  {
   "cell_type": "code",
   "execution_count": 10,
   "metadata": {},
   "outputs": [
    {
     "name": "stdout",
     "output_type": "stream",
     "text": [
      "Net(\n",
      "  (conv1): Conv2d(1, 10, kernel_size=(5, 5), stride=(1, 1))\n",
      "  (conv2): Conv2d(10, 20, kernel_size=(5, 5), stride=(1, 1))\n",
      "  (max_pool): MaxPool2d(kernel_size=2, stride=2, padding=0, dilation=1, ceil_mode=False)\n",
      "  (fc1): Linear(in_features=320, out_features=50, bias=True)\n",
      "  (fc2): Linear(in_features=50, out_features=10, bias=True)\n",
      ")\n"
     ]
    }
   ],
   "source": [
    "net = Net().to(device)\n",
    "print(net)"
   ]
  },
  {
   "cell_type": "markdown",
   "metadata": {},
   "source": [
    "### 定义损失函数和优化器并初始化\n",
    "\n",
    "1. 损失函数使用CrossEntropyLoss()，用于分类问题的损失函数，结合了softmax层和负对数似然损失，衡量模型预测的概率分布与真实标签之间的差异。\n",
    "\n",
    "2. 优化器使用Adam()，自适应学习率优化算法，结合了动量法和自适应学习率调整，能在训练模型时自动调整每个参数的学习率，有效加速收敛并提高模型性能。\n",
    "\n",
    "注意：\n",
    "\n",
    "- 可指定其他损失函数和优化器。"
   ]
  },
  {
   "cell_type": "code",
   "execution_count": 11,
   "metadata": {},
   "outputs": [
    {
     "name": "stdout",
     "output_type": "stream",
     "text": [
      "CrossEntropyLoss()\n",
      "Adam (\n",
      "Parameter Group 0\n",
      "    amsgrad: False\n",
      "    betas: (0.9, 0.999)\n",
      "    capturable: False\n",
      "    differentiable: False\n",
      "    eps: 1e-08\n",
      "    foreach: None\n",
      "    fused: None\n",
      "    lr: 0.001\n",
      "    maximize: False\n",
      "    weight_decay: 0\n",
      ")\n"
     ]
    }
   ],
   "source": [
    "Loss = nn.CrossEntropyLoss()\n",
    "print(Loss)\n",
    " \n",
    "lr = 0.001\n",
    "optimizer = torch.optim.Adam(net.parameters(), lr)\n",
    "print(optimizer)"
   ]
  },
  {
   "cell_type": "markdown",
   "metadata": {},
   "source": [
    "### 训练模型\n",
    "\n",
    "1. 将模型转为训练模式，在训练模式下，某些特定的层会表现出与评估模式不同的行为。\n",
    "\n",
    "2. 指定训练轮数，使用训练轮数和数据集迭代，根据设备硬件情况，可将张量移动到指定设备上进行计算，清除上一次计算的梯度，将特征输入到模型中，计算损失，根据损失计算梯度，更新模型参数。\n",
    "\n",
    "3. 指定每50次打印一次损失值，每个批次结束后也打印。"
   ]
  },
  {
   "cell_type": "code",
   "execution_count": 12,
   "metadata": {},
   "outputs": [
    {
     "name": "stdout",
     "output_type": "stream",
     "text": [
      "第1轮，第50个损失：0.4022880792617798\n",
      "第1轮，第100个损失：0.16975349187850952\n",
      "第1轮，第150个损失：0.18499231338500977\n",
      "第1轮，第200个损失：0.17569468915462494\n",
      "第1轮，第250个损失：0.3035045266151428\n",
      "第1轮，第300个损失：0.09605615586042404\n",
      "第1轮，第350个损失：0.0643605887889862\n",
      "第1轮，第400个损失：0.1683964729309082\n",
      "第1轮，第450个损失：0.020939424633979797\n",
      "第1轮，第500个损失：0.1901821345090866\n",
      "第1轮，第550个损失：0.10082937777042389\n",
      "第1轮，第600个损失：0.07985519617795944\n",
      "第1轮，第650个损失：0.06977441906929016\n",
      "第1轮，第700个损失：0.007086781784892082\n",
      "第1轮，第750个损失：0.12742199003696442\n",
      "第1轮，第800个损失：0.09552221745252609\n",
      "第1轮，第850个损失：0.1626587212085724\n",
      "第1轮，第900个损失：0.12267571687698364\n",
      "第1轮最后一次损失：0.049512915313243866\n",
      "第2轮，第50个损失：0.07697384059429169\n",
      "第2轮，第100个损失：0.015726063400506973\n",
      "第2轮，第150个损失：0.02442924864590168\n",
      "第2轮，第200个损失：0.021875156089663506\n",
      "第2轮，第250个损失：0.06166018173098564\n",
      "第2轮，第300个损失：0.1340085119009018\n",
      "第2轮，第350个损失：0.035796813666820526\n",
      "第2轮，第400个损失：0.15058046579360962\n",
      "第2轮，第450个损失：0.019654113799333572\n",
      "第2轮，第500个损失：0.025749141350388527\n",
      "第2轮，第550个损失：0.0334276407957077\n",
      "第2轮，第600个损失：0.04257844761013985\n",
      "第2轮，第650个损失：0.03670341894030571\n",
      "第2轮，第700个损失：0.07022234052419662\n",
      "第2轮，第750个损失：0.004223215393722057\n",
      "第2轮，第800个损失：0.07615254819393158\n",
      "第2轮，第850个损失：0.015771090984344482\n",
      "第2轮，第900个损失：0.06660951673984528\n",
      "第2轮最后一次损失：0.095390684902668\n"
     ]
    }
   ],
   "source": [
    "net.train()\n",
    "epochs = 2\n",
    "for epoch in range(epochs):\n",
    "    i = 1\n",
    "    for features, labels in train_loader:\n",
    "        features, labels = features.to(device), labels.to(device)\n",
    "        optimizer.zero_grad()\n",
    "        outputs = net(features)\n",
    "        loss = Loss(outputs, labels)\n",
    "        loss.backward()\n",
    "        optimizer.step()\n",
    "        i += 1\n",
    "        if i % 50 == 0:\n",
    "            print(f'第{epoch+ 1}轮，第{i}个损失：{loss}')\n",
    "    print(f'第{epoch +1}轮最后一次损失：{loss}')"
   ]
  },
  {
   "cell_type": "markdown",
   "metadata": {},
   "source": [
    "### 模型预测\n",
    "\n",
    "1. 将模型转为评估模式，关闭训练时特有的层，确保在预测数据上获得一致且可重复的结果。\n",
    "\n",
    "2. 定义模型精度计算参数，计算模型在测试数据上的精确率。\n",
    "\n",
    "3. 根据设备硬件情况，可将张量移动到指定设备上进行计算，禁用梯度计算，防止模型内部参数变化。"
   ]
  },
  {
   "cell_type": "code",
   "execution_count": 13,
   "metadata": {},
   "outputs": [
    {
     "name": "stdout",
     "output_type": "stream",
     "text": [
      "acc：0.9834\n"
     ]
    }
   ],
   "source": [
    "net.eval()\n",
    "correct = 0\n",
    "total = 0\n",
    "with torch.no_grad():\n",
    "    for features, labels in test_loader:\n",
    "        features, labels = features.to(device), labels.to(device)\n",
    "        outputs = net(features)\n",
    "        _, predicted= torch.max(outputs.data, dim=1)\n",
    "        total += labels.size(0)\n",
    "        correct += (predicted == labels).sum().item()\n",
    "acc = correct / total\n",
    "print(f'acc：{acc}')"
   ]
  },
  {
   "cell_type": "markdown",
   "metadata": {},
   "source": [
    "### 指定测试集数据索引并展示预测\n",
    "\n",
    "1. 指定索引提取测试集数据，转换数据格式，输入数据进行预测。\n",
    "\n",
    "2. 禁用梯度计算，防止模型内部参数变化，根据设备硬件情况，可将张量移动到指定设备上进行计算。\n",
    "\n",
    "3. 展示测试图像和预测结果。"
   ]
  },
  {
   "cell_type": "code",
   "execution_count": 14,
   "metadata": {},
   "outputs": [
    {
     "data": {
      "image/png": "[encoded data removed]",
      "text/plain": [
       "<Figure size 640x480 with 1 Axes>"
      ]
     },
     "metadata": {},
     "output_type": "display_data"
    },
    {
     "name": "stdout",
     "output_type": "stream",
     "text": [
      "预测结果：tensor([9], device='cuda:0')\n"
     ]
    }
   ],
   "source": [
    "i = 1000\n",
    "# 指定预测数据量\n",
    "with torch.no_grad():\n",
    "    feature_cell = test_dataset.data[i]\n",
    "    label_cell = test_dataset.targets[i]\n",
    "    fig = plt.figure()\n",
    "    plt.imshow(feature_cell)\n",
    "    plt.title(label_cell)\n",
    "    plt.show()\n",
    "    feature_cell, label_cell = feature_cell.float().unsqueeze(0).unsqueeze(0).to(device), label_cell.float().unsqueeze(0).unsqueeze(0).to(device)\n",
    "    outputs = net(feature_cell)\n",
    "    _, predicted= torch.max(outputs.data, dim=1)\n",
    "    print(f'预测结果：{predicted}')"
   ]
  },
  {
   "cell_type": "code",
   "execution_count": 15,
   "metadata": {},
   "outputs": [],
   "source": [
    "# 相关函数/方法\n",
    "\n",
    "# torch.unsqueeze()在张量的指定位置增加一个维度\n",
    "# input(Tensor)输入张量，可是任意形状的张量\n",
    "# dim(int)指定要插入新维度的位置，范围[-input.dim() - 1, input.dim() + 1)，如果为负数，表示从最后一个维度开始计数\n",
    "# out(Tensor)可选，存储输出结果的张量，如果指定，输出将被写入此张量中"
   ]
  }
 ],
 "metadata": {
  "kernelspec": {
   "display_name": "myEnv",
   "language": "python",
   "name": "python3"
  },
  "language_info": {
   "codemirror_mode": {
    "name": "ipython",
    "version": 3
   },
   "file_extension": ".py",
   "mimetype": "text/x-python",
   "name": "python",
   "nbconvert_exporter": "python",
   "pygments_lexer": "ipython3",
   "version": "3.8.19"
  }
 },
 "nbformat": 4,
 "nbformat_minor": 2
}
