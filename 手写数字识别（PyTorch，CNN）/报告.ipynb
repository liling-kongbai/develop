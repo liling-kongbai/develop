{
 "cells": [
  {
   "cell_type": "markdown",
   "metadata": {},
   "source": [
    "# 前言\n",
    "\n",
    "&emsp;&emsp;本项目是基于卷积神经网络的手写数字识别模型，由作者编写本项目时的知识储备所写，整体代码已经完成。供学习使用，期待后续继续学习和完善，欢迎讨论，建议，提问！\n",
    "\n",
    "&emsp;&emsp;项目分块讲解，代码解析部分内容较多，请按需求跳转到相应位置观看。见谅！"
   ]
  },
  {
   "cell_type": "markdown",
   "metadata": {},
   "source": [
    "# 运行环境\n",
    "\n",
    "&emsp;&emsp;本项目运行在VScode代码编辑器中，使用Anaconda创建的Python 3.8.19和PyTorch 2.2.2+cu121环境。"
   ]
  },
  {
   "cell_type": "markdown",
   "metadata": {},
   "source": [
    "# 思考分析\n",
    "\n",
    "&emsp;&emsp;本想在使用数据集之前，一次性将所有数据移动到GPU上再使用，但是一直有新问题出现，没有解决所有问题，而且使数据处理部分变复杂，最后仅在训练和预测的迭代过程中，逐个批次进行移动，应该是有其他方法的，但是还没有学到。"
   ]
  },
  {
   "cell_type": "markdown",
   "metadata": {},
   "source": [
    "# 总结\n",
    "\n",
    "&emsp;&emsp;这是一个简单的手写数字识别项目。\n",
    "\n",
    "&emsp;&emsp;冲冲冲！"
   ]
  }
 ],
 "metadata": {
  "kernelspec": {
   "display_name": "myEnv",
   "language": "python",
   "name": "python3"
  },
  "language_info": {
   "name": "python",
   "version": "3.8.19"
  }
 },
 "nbformat": 4,
 "nbformat_minor": 2
}
