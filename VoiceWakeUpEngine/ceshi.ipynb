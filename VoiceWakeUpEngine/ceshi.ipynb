{
 "cells": [
  {
   "cell_type": "code",
   "execution_count": 1,
   "metadata": {},
   "outputs": [],
   "source": [
    "import os\n",
    "import re\n",
    "from pathlib import Path\n",
    "import time"
   ]
  },
  {
   "cell_type": "code",
   "execution_count": 2,
   "metadata": {},
   "outputs": [
    {
     "name": "stdout",
     "output_type": "stream",
     "text": [
      "os.path.splitext(): 0.863671 秒\n",
      "split(): 0.112834 秒\n",
      "pathlib: 2.479121 秒\n",
      "正则表达式: 0.678588 秒\n"
     ]
    }
   ],
   "source": [
    "filename = \"1736996379_1.wav\"\n",
    "\n",
    "# 方法 1: os.path.splitext()\n",
    "start = time.time()\n",
    "for _ in range(1_000_000):\n",
    "    os.path.splitext(filename)[0]\n",
    "print(f\"os.path.splitext(): {time.time() - start:.6f} 秒\")\n",
    "\n",
    "# 方法 2: split()\n",
    "start = time.time()\n",
    "for _ in range(1_000_000):\n",
    "    filename.split(\".\")[0]\n",
    "print(f\"split(): {time.time() - start:.6f} 秒\")\n",
    "\n",
    "# 方法 3: pathlib\n",
    "start = time.time()\n",
    "for _ in range(1_000_000):\n",
    "    Path(filename).stem\n",
    "print(f\"pathlib: {time.time() - start:.6f} 秒\")\n",
    "\n",
    "# 方法 4: 正则表达式\n",
    "start = time.time()\n",
    "for _ in range(1_000_000):\n",
    "    re.sub(r\"\\.wav$\", \"\", filename)\n",
    "print(f\"正则表达式: {time.time() - start:.6f} 秒\")"
   ]
  }
 ],
 "metadata": {
  "kernelspec": {
   "display_name": "myEnv",
   "language": "python",
   "name": "python3"
  },
  "language_info": {
   "codemirror_mode": {
    "name": "ipython",
    "version": 3
   },
   "file_extension": ".py",
   "mimetype": "text/x-python",
   "name": "python",
   "nbconvert_exporter": "python",
   "pygments_lexer": "ipython3",
   "version": "3.8.19"
  }
 },
 "nbformat": 4,
 "nbformat_minor": 2
}
